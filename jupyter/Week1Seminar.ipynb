{
 "cells": [
  {
   "cell_type": "markdown",
   "metadata": {},
   "source": [
    "# Week 1 Seminar\n",
    "\n",
    "A/B experiment analysis"
   ]
  },
  {
   "cell_type": "code",
   "execution_count": null,
   "metadata": {
    "tags": []
   },
   "outputs": [],
   "source": [
    "from collections import namedtuple\n",
    "\n",
    "import pandas as pd\n",
    "import numpy as np\n",
    "import scipy.stats as ss\n",
    "\n",
    "import matplotlib.pyplot as plt\n",
    "\n",
    "pd.set_option(\"display.precision\", 3)\n",
    "\n",
    "%matplotlib inline"
   ]
  },
  {
   "cell_type": "code",
   "execution_count": null,
   "metadata": {
    "tags": []
   },
   "outputs": [],
   "source": [
    "experiment = \"CONTEXTUAL-WITH-REDIRECT2\""
   ]
  },
  {
   "cell_type": "code",
   "execution_count": null,
   "metadata": {
    "tags": []
   },
   "outputs": [],
   "source": [
    "data = pd.read_json(\"/home/log/data.json\", lines=True)\n",
    "data[\"treatment\"] = data[\"experiments\"].map(lambda experiments: experiments[experiment])"
   ]
  },
  {
   "cell_type": "code",
   "execution_count": null,
   "metadata": {
    "tags": []
   },
   "outputs": [],
   "source": [
    "data.head()"
   ]
  },
  {
   "cell_type": "markdown",
   "metadata": {},
   "source": [
    "## Visualize sessions"
   ]
  },
  {
   "cell_type": "code",
   "execution_count": null,
   "metadata": {
    "tags": []
   },
   "outputs": [],
   "source": [
    "Session = namedtuple(\"Session\", [\"timestamp\", \"tracks\", \"time\", \"latency\"])\n",
    "\n",
    "def sessionize(user_data):\n",
    "    sessions = []\n",
    "    session = None\n",
    "    for _, row in user_data.sort_values(\"timestamp\").iterrows():\n",
    "        if session is None:\n",
    "            session = Session(row[\"timestamp\"], 0, 0, 0)\n",
    "        \n",
    "        session = session._replace(\n",
    "            tracks = session.tracks + 1, \n",
    "            time = session.time + row[\"time\"],\n",
    "            latency = session.latency + row[\"latency\"] * 1000,\n",
    "        )\n",
    "        \n",
    "        if row[\"message\"] == \"last\":\n",
    "            sessions.append(session._asdict())\n",
    "            session = None\n",
    "    return sessions"
   ]
  },
  {
   "cell_type": "code",
   "execution_count": null,
   "metadata": {
    "tags": []
   },
   "outputs": [],
   "source": [
    "sessions = (\n",
    "    data\n",
    "    .groupby([\"user\", \"treatment\"])\n",
    "    .apply(sessionize)\n",
    "    .explode()\n",
    "    .apply(pd.Series)\n",
    ")"
   ]
  },
  {
   "cell_type": "code",
   "execution_count": null,
   "metadata": {
    "tags": []
   },
   "outputs": [],
   "source": [
    "figure, ax = plt.subplots(figsize=(15, 5))\n",
    "for treatment, treatment_sessions in sessions.groupby(\"treatment\"):\n",
    "    reindexed_treatment_sessions = treatment_sessions.sort_values(\"timestamp\").reset_index()\n",
    "    ax.plot(reindexed_treatment_sessions.index, reindexed_treatment_sessions[\"tracks\"], label=treatment)\n",
    "ax.legend()\n",
    "pass"
   ]
  },
  {
   "cell_type": "code",
   "execution_count": null,
   "metadata": {
    "tags": []
   },
   "outputs": [],
   "source": [
    "figure, ax = plt.subplots(figsize=(15, 5))\n",
    "for treatment, treatment_sessions in sessions.groupby(\"treatment\"):\n",
    "    reindexed_treatment_sessions = treatment_sessions.sort_values(\"timestamp\").reset_index()\n",
    "    ax.plot(reindexed_treatment_sessions.index, reindexed_treatment_sessions[\"time\"], label=treatment)\n",
    "ax.legend()\n",
    "pass"
   ]
  },
  {
   "cell_type": "markdown",
   "metadata": {},
   "source": [
    "## Analyze the experiment"
   ]
  },
  {
   "cell_type": "code",
   "execution_count": null,
   "metadata": {
    "tags": []
   },
   "outputs": [],
   "source": [
    "user_level_data = (\n",
    "  sessions\n",
    "    .reset_index()\n",
    "    .groupby([\"user\", \"treatment\"])\n",
    "    .agg(\n",
    "        {\n",
    "            \"timestamp\": \"count\",\n",
    "            \"tracks\": \"sum\",\n",
    "            \"time\": \"sum\",\n",
    "            \"latency\": \"sum\"\n",
    "        }\n",
    "    )\n",
    ")\n",
    "\n",
    "user_level_data[\"sessions\"] = user_level_data[\"timestamp\"]\n",
    "user_level_data[\"mean_request_latency\"] = user_level_data[\"latency\"] / user_level_data[\"tracks\"]\n",
    "user_level_data[\"mean_tracks_per_session\"] = user_level_data[\"tracks\"] / user_level_data[\"sessions\"]\n",
    "user_level_data[\"mean_time_per_session\"] = user_level_data[\"time\"] / user_level_data[\"sessions\"]\n",
    "\n",
    "metrics = [\n",
    "    \"time\", \n",
    "    \"sessions\", \n",
    "    \"mean_request_latency\", \n",
    "    \"mean_tracks_per_session\", \n",
    "    \"mean_time_per_session\"\n",
    "]\n",
    "\n",
    "user_level_metrics = user_level_data[metrics].copy().reset_index()"
   ]
  },
  {
   "cell_type": "code",
   "execution_count": null,
   "metadata": {
    "tags": []
   },
   "outputs": [],
   "source": [
    "treatment_level_metrics = (\n",
    "    user_level_metrics\n",
    "    .groupby(\"treatment\")[metrics]\n",
    "    .agg([\"count\", \"mean\", \"var\"])\n",
    ")"
   ]
  },
  {
   "cell_type": "code",
   "execution_count": null,
   "metadata": {
    "tags": []
   },
   "outputs": [],
   "source": [
    "def dof(n_0, n_1, s2_0, s2_1):\n",
    "    numerator = (s2_0 / n_0 + s2_1 / n_1) * (s2_0 / n_0 + s2_1 / n_1)\n",
    "    denominator = s2_0 * s2_0 / n_0 / n_0 / (n_0 - 1) + s2_1 * s2_1 / n_1 / n_1 / (n_1 - 1)\n",
    "    return numerator / denominator\n",
    "\n",
    "\n",
    "def ci(n_0, n_1, s2_0, s2_1, alpha=0.05):\n",
    "    return ss.t.ppf(1 - alpha/2, dof(n_0, n_1, s2_0, s2_1)) * np.sqrt(s2_0 / n_0 + s2_1 / n_1)\n",
    "\n",
    "\n",
    "effects = []\n",
    "\n",
    "control = [data for treatment, data in treatment_level_metrics.iterrows() if treatment == \"C\"][0]\n",
    "\n",
    "for treatment, row in treatment_level_metrics.iterrows():\n",
    "    if treatment == \"C\":\n",
    "        continue\n",
    "    \n",
    "    for metric in metrics:\n",
    "        control_mean = control[metric][\"mean\"]\n",
    "        treatment_mean = row[metric][\"mean\"]\n",
    "        \n",
    "        effect = treatment_mean - control_mean\n",
    "        conf_int = ci(\n",
    "            control[metric][\"count\"],\n",
    "            row[metric][\"count\"],\n",
    "            control[metric][\"var\"],\n",
    "            row[metric][\"var\"],\n",
    "        )\n",
    "        effects.append({\n",
    "            \"treatment\": treatment,\n",
    "            \"metric\": metric,\n",
    "            \"control_mean\": control_mean,\n",
    "            \"treatment_mean\": treatment_mean,\n",
    "            \"effect\": effect / control_mean * 100,\n",
    "            \"lower\": (effect - conf_int) / control_mean * 100,\n",
    "            \"upper\": (effect + conf_int) / control_mean * 100,\n",
    "            \"significant\": (effect + conf_int) * (effect - conf_int) > 0\n",
    "        })"
   ]
  },
  {
   "cell_type": "code",
   "execution_count": null,
   "metadata": {
    "tags": []
   },
   "outputs": [],
   "source": [
    "def color(value):\n",
    "    return 'color:red;' if value < 0 else 'color:green;'\n",
    "\n",
    "def background(value):\n",
    "    return 'color:white;background-color:green' if value else 'color:white;background-color:red'\n",
    "        \n",
    "\n",
    "(\n",
    "    pd.DataFrame(effects)[[\n",
    "        \"treatment\", \n",
    "        \"metric\",\n",
    "        \"effect\", \n",
    "        \"upper\", \n",
    "        \"lower\", \n",
    "        \"control_mean\", \n",
    "        \"treatment_mean\",\n",
    "        \"significant\"\n",
    "    ]]\n",
    "    .sort_values([\"metric\", \"treatment\"], ascending=False)\n",
    "    .style\n",
    "    .applymap(color, subset=[\"effect\", \"upper\", \"lower\"])\n",
    "    .applymap(background, subset=[\"significant\"])\n",
    ")"
   ]
  },
  {
   "cell_type": "code",
   "execution_count": null,
   "metadata": {},
   "outputs": [],
   "source": []
  }
 ],
 "metadata": {
  "kernelspec": {
   "display_name": "Python 3 (ipykernel)",
   "language": "python",
   "name": "python3"
  },
  "language_info": {
   "codemirror_mode": {
    "name": "ipython",
    "version": 3
   },
   "file_extension": ".py",
   "mimetype": "text/x-python",
   "name": "python",
   "nbconvert_exporter": "python",
   "pygments_lexer": "ipython3",
   "version": "3.8.0"
  }
 },
 "nbformat": 4,
 "nbformat_minor": 4
}
